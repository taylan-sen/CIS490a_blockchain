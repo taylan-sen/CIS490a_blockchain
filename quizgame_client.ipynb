{
  "nbformat": 4,
  "nbformat_minor": 0,
  "metadata": {
    "colab": {
      "provenance": [],
      "authorship_tag": "ABX9TyPGTgWzEGZQX3YkXIH9hFk6",
      "include_colab_link": true
    },
    "kernelspec": {
      "name": "python3",
      "display_name": "Python 3"
    },
    "language_info": {
      "name": "python"
    }
  },
  "cells": [
    {
      "cell_type": "markdown",
      "metadata": {
        "id": "view-in-github",
        "colab_type": "text"
      },
      "source": [
        "<a href=\"https://colab.research.google.com/github/taylan-sen/CIS490a_blockchain/blob/main/quizgame_client.ipynb\" target=\"_parent\"><img src=\"https://colab.research.google.com/assets/colab-badge.svg\" alt=\"Open In Colab\"/></a>"
      ]
    },
    {
      "cell_type": "code",
      "execution_count": null,
      "metadata": {
        "colab": {
          "base_uri": "https://localhost:8080/"
        },
        "id": "-6BvpFUDitrU",
        "outputId": "40c8f507-413b-4feb-d622-c27320e4336b"
      },
      "outputs": [
        {
          "output_type": "stream",
          "name": "stdout",
          "text": [
            "...sent...\n",
            "...waiting for resp...\n",
            "RX: oracle answer recorded\n"
          ]
        }
      ],
      "source": [
        "# Blockchain quizgame client\n",
        "\n",
        "import socket\n",
        "\n",
        "server_addr = ('35.232.71.42', 12001)\n",
        "with socket.socket(type = socket.SOCK_DGRAM) as s:\n",
        "  #tx_msg = input('ENTER: name question_number answer\\nexample: Ty 1 a\\n:')\n",
        "  tx_msg = 'Ty 1 a'\n",
        "  s.sendto(tx_msg.encode(), server_addr)\n",
        "  print('...sent...')\n",
        "  print('...waiting for resp...')\n",
        "  rx_msg, addr = s.recvfrom(2048)\n",
        "  print('RX:', rx_msg.decode())\n"
      ]
    }
  ]
}